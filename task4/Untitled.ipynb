{
 "cells": [
  {
   "cell_type": "code",
   "execution_count": 32,
   "id": "9e99fda2-b991-4ac0-943d-25dc8ee85e11",
   "metadata": {},
   "outputs": [],
   "source": [
    "import pandas as pd\n",
    "import numpy as np"
   ]
  },
  {
   "cell_type": "code",
   "execution_count": 13,
   "id": "db8ce30b-94d0-42e6-87f6-5e29d0a4481b",
   "metadata": {},
   "outputs": [],
   "source": [
    "df = pd.read_excel('ИсходникМатрицы.xlsx')\n"
   ]
  },
  {
   "cell_type": "code",
   "execution_count": 34,
   "id": "80b36132-6a6d-41a3-a135-4fc56adca9c9",
   "metadata": {},
   "outputs": [],
   "source": [
    "result = {\"source\": [],\"target\": [],\"weight\": []}\n",
    "for i in range(df.shape[0]):\n",
    "    for j in range(1, df.shape[1]):\n",
    "        if np.isnan(df.iloc[i,j]):\n",
    "            continue\n",
    "        result[\"source\"].append(df.iloc[i][0])\n",
    "        result[\"target\"].append(df.columns[j])\n",
    "        result['weight'].append(df.iloc[i,j])\n",
    "        \n",
    "edges = pd.DataFrame(result)\n",
    "edges.to_csv('data/edges.csv', index=False)"
   ]
  },
  {
   "cell_type": "code",
   "execution_count": 53,
   "id": "01cdff1c-4a9b-4c16-b17c-c33a1e7d74a4",
   "metadata": {},
   "outputs": [],
   "source": [
    "df['country'] = [\n",
    "    \"USA\",\n",
    "    \"USA\",\n",
    "    \"USA\",\n",
    "    \"USA\",\n",
    "    \"Italy\",\n",
    "    \"USA\",\n",
    "    \"France\",\n",
    "    \"Italy\",\n",
    "    \"USA\",\n",
    "    \"USA\",\n",
    "    \"France\",\n",
    "    \"UK\",\n",
    "    \"Russia\",\n",
    "    \"USA\",\n",
    "    \"USA\",\n",
    "    \"UK\",\n",
    "    \"USA\",\n",
    "    \"USA\",\n",
    "    \"USA\",\n",
    "    \"UK\",\n",
    "    \"France\",\n",
    "    \"UK\",\n",
    "    \"USA\",\n",
    "    \"USA\",\n",
    "    \"Japan\",\n",
    "]"
   ]
  },
  {
   "cell_type": "code",
   "execution_count": 77,
   "id": "cf8bb785-ac43-46ee-9f3d-f70d434a0763",
   "metadata": {},
   "outputs": [],
   "source": [
    "row_nodes = df[[\"Орг\\Тех\", \"country\"]].copy()\n",
    "row_nodes.columns = ['id', 'name']\n",
    "\n",
    "col_nodes = pd.DataFrame(\n",
    "    {\"id\": df.columns[1:-1],\n",
    "     \"name\": [\"Космические аппараты\"]*10 + [\"Космические программы\"]*5 + [\"Аэрокосмические компании\"]*11\n",
    "    }\n",
    ")\n"
   ]
  },
  {
   "cell_type": "code",
   "execution_count": 79,
   "id": "6a97d0d2-939d-4cb4-a75f-add2715811fa",
   "metadata": {},
   "outputs": [],
   "source": [
    "row_nodes.to_csv('data/row_nodes.csv', index=False)\n",
    "col_nodes.to_csv('data/col_nodes.csv', index=False)\n"
   ]
  },
  {
   "cell_type": "code",
   "execution_count": null,
   "id": "eb60d999-f494-480a-8350-715e3ddf85be",
   "metadata": {},
   "outputs": [],
   "source": []
  }
 ],
 "metadata": {
  "kernelspec": {
   "display_name": "Python 3",
   "language": "python",
   "name": "python3"
  },
  "language_info": {
   "codemirror_mode": {
    "name": "ipython",
    "version": 3
   },
   "file_extension": ".py",
   "mimetype": "text/x-python",
   "name": "python",
   "nbconvert_exporter": "python",
   "pygments_lexer": "ipython3",
   "version": "3.8.8"
  }
 },
 "nbformat": 4,
 "nbformat_minor": 5
}
